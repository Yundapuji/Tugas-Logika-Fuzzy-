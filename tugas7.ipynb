{
 "cells": [
  {
   "cell_type": "markdown",
   "id": "e60d9fa2-9b52-4e02-935b-71b3801d201b",
   "metadata": {},
   "source": [
    "---\n",
    "Fuzzy Database\n",
    "---"
   ]
  },
  {
   "cell_type": "code",
   "execution_count": 629,
   "id": "ecb22520-2fd0-474c-a501-6cf8a83cc830",
   "metadata": {},
   "outputs": [],
   "source": [
    "#Import library\n",
    "import mysql.connector as mysql\n",
    "import pandas as pd\n",
    "\n",
    "#Koneksi ke localhost (Database)\n",
    "mydb=mysql.connect(\n",
    "    host=\"localhost\",\n",
    "    user=\"root\",\n",
    "    passwd=\"\"\n",
    ")"
   ]
  },
  {
   "cell_type": "code",
   "execution_count": 630,
   "id": "bf02e605-6871-4367-89ad-ab07d2d88c9b",
   "metadata": {},
   "outputs": [
    {
     "name": "stdout",
     "output_type": "stream",
     "text": [
      "('db_dealer',)\n",
      "('ecom_db',)\n",
      "('ecomm',)\n",
      "('fuzzy_db',)\n",
      "('harvard',)\n",
      "('information_schema',)\n",
      "('mikeup',)\n",
      "('mysql',)\n",
      "('nbc',)\n",
      "('performance_schema',)\n",
      "('phpmyadmin',)\n",
      "('pis_akademik',)\n",
      "('restoran',)\n",
      "('shopee',)\n",
      "('test',)\n",
      "('veriler',)\n"
     ]
    }
   ],
   "source": [
    "#Menampilkan daftar database localhost\n",
    "mycursor=mydb.cursor()\n",
    "mycursor.execute(\"SHOW DATABASES\")\n",
    "for x in mycursor:\n",
    "    print(x)"
   ]
  },
  {
   "cell_type": "code",
   "execution_count": 631,
   "id": "613d59b6-bbd1-41c1-8807-60bf51307daf",
   "metadata": {},
   "outputs": [
    {
     "name": "stdout",
     "output_type": "stream",
     "text": [
      "[('tb_emp',), ('tb_kelompok',), ('tb_kriteria',), ('tb_user',)]\n"
     ]
    }
   ],
   "source": [
    "#Menampilkan Semua Daftar Tabel\n",
    "mydb.database=\"fuzzy_db\"\n",
    "mycursor.execute(\"SHOW TABLES\")\n",
    "data=mycursor.fetchall()\n",
    "print(data)"
   ]
  },
  {
   "cell_type": "code",
   "execution_count": 632,
   "id": "3af170e4-1d87-45aa-b6b4-6a8a40071123",
   "metadata": {},
   "outputs": [
    {
     "name": "stdout",
     "output_type": "stream",
     "text": [
      "   Id     Nama  Usia  Masa Kerja     Gaji\n",
      "0   1     Anik    30           6   750000\n",
      "1   2     Yudi    48          17  1255000\n",
      "2   3  Inawati    36          14  1500000\n",
      "3   4     Rudi    37           4  1040000\n",
      "4   5    Riska    42          12   950000\n",
      "5   6     Aman    39          13  1600000\n",
      "6   7     Dudi    37           5  1250000\n",
      "7   8     Rini    32           1   550000\n",
      "8   9    Ratih    35           3   735000\n",
      "9  10   Panjul    25           2   860000\n"
     ]
    }
   ],
   "source": [
    "#Menampilkan Data Dalam Tabel fuzzy_db (tb_emp)\n",
    "mycursor.execute(\"SELECT * FROM tb_emp\")\n",
    "data=mycursor.fetchall()\n",
    "df=pd.DataFrame(data,columns=['Id','Nama','Usia','Masa Kerja','Gaji'])\n",
    "print(df)"
   ]
  },
  {
   "cell_type": "code",
   "execution_count": 633,
   "id": "9744e817-801d-4ace-9e06-c768054b8ff4",
   "metadata": {},
   "outputs": [
    {
     "name": "stdout",
     "output_type": "stream",
     "text": [
      "   Id Nama Kriteria      Bawah     Tengah         Atas  Kelompok  Keterangan\n",
      "0   1          Muda        0.0       30.0         40.0         1  Darah Muda\n",
      "1   2      Parobaya       35.0       45.0         50.0         1        None\n",
      "2   3           Tua       40.0       50.0         99.0         1        None\n",
      "3   4          Baru        0.0        5.0         15.0         2        None\n",
      "4   5          Lama       10.0       25.0         99.0         2        None\n",
      "5   6        Rendah        0.0   300000.0     800000.0         3        None\n",
      "6   7        Sedang   500000.0  1000000.0    1500000.0         3        None\n",
      "7   8        Tinggi  1000000.0  2000000.0  100000000.0         3        None\n"
     ]
    }
   ],
   "source": [
    "#Menampilkan Data Dalam Tabel fuzzy_db (tb_kriteria)\n",
    "mycursor.execute(\"SELECT * FROM tb_kriteria\")\n",
    "data=mycursor.fetchall()\n",
    "df=pd.DataFrame(data,columns=['Id','Nama Kriteria','Bawah','Tengah','Atas','Kelompok','Keterangan'])\n",
    "print(df)"
   ]
  },
  {
   "cell_type": "code",
   "execution_count": 634,
   "id": "72369f79-1956-43dd-bbd3-492bfa44f6dc",
   "metadata": {},
   "outputs": [
    {
     "name": "stdout",
     "output_type": "stream",
     "text": [
      "[(30,), (48,), (36,), (37,), (42,), (39,), (37,), (32,), (35,), (25,)]\n"
     ]
    }
   ],
   "source": [
    "#Derajat Keanggotaan Usia\n",
    "mycursor.execute(\"SELECT usia FROM tb_emp\")\n",
    "kUsia=mycursor.fetchall()\n",
    "print(kUsia)"
   ]
  },
  {
   "cell_type": "code",
   "execution_count": 635,
   "id": "0095e772-a2b3-4c4d-add5-b520578271b6",
   "metadata": {},
   "outputs": [
    {
     "name": "stdout",
     "output_type": "stream",
     "text": [
      "[(0.0,)] [(30.0,)] [(40.0,)]\n",
      "Miu Umur Muda =  [1.]\n",
      "Miu Umur Muda =  0\n",
      "Miu Umur Muda =  [0.4]\n",
      "Miu Umur Muda =  [0.3]\n",
      "Miu Umur Muda =  0\n",
      "Miu Umur Muda =  [0.1]\n",
      "Miu Umur Muda =  [0.3]\n",
      "Miu Umur Muda =  [0.8]\n",
      "Miu Umur Muda =  [0.5]\n",
      "Miu Umur Muda =  [0.83333333]\n",
      "\n",
      " [array([1.]), 0, array([0.4]), array([0.3]), 0, array([0.1]), array([0.3]), array([0.8]), array([0.5]), array([0.83333333])]\n",
      "\n",
      " [(35.0,)] [(45.0,)] [(50.0,)]\n",
      "Miu Umur Parobaya =  0\n",
      "Miu Umur Parobaya =  [0.4]\n",
      "Miu Umur Parobaya =  [0.1]\n",
      "Miu Umur Parobaya =  [0.2]\n",
      "Miu Umur Parobaya =  [0.7]\n",
      "Miu Umur Parobaya =  [0.4]\n",
      "Miu Umur Parobaya =  [0.2]\n",
      "Miu Umur Parobaya =  0\n",
      "Miu Umur Parobaya =  [0.]\n",
      "Miu Umur Parobaya =  0\n",
      "\n",
      " [0, array([0.4]), array([0.1]), array([0.2]), array([0.7]), array([0.4]), array([0.2]), 0, array([0.]), 0]\n",
      "\n",
      " [(40.0,)] [(50.0,)] [(99.0,)]\n",
      "Miu Umur Tua =  0\n",
      "Miu Umur Tua =  [0.8]\n",
      "Miu Umur Tua =  0\n",
      "Miu Umur Tua =  0\n",
      "Miu Umur Tua =  [0.2]\n",
      "Miu Umur Tua =  0\n",
      "Miu Umur Tua =  0\n",
      "Miu Umur Tua =  0\n",
      "Miu Umur Tua =  0\n",
      "Miu Umur Tua =  0\n",
      "\n",
      " [0, array([0.8]), 0, 0, array([0.2]), 0, 0, 0, 0, 0]\n"
     ]
    }
   ],
   "source": [
    "#Derajat Keanggotaan Usia (Muda)\n",
    "#Bawah\n",
    "mycursor.execute(\"SELECT bawah FROM tb_kriteria WHERE id=1\")\n",
    "kbawah=mycursor.fetchall()\n",
    "#Tengah\n",
    "mycursor.execute(\"SELECT tengah FROM tb_kriteria WHERE id=1\")\n",
    "ktengah=mycursor.fetchall()\n",
    "#Atas\n",
    "mycursor.execute(\"SELECT atas FROM tb_kriteria WHERE id=1\")\n",
    "katas=mycursor.fetchall()\n",
    "\n",
    "print(kbawah,ktengah,katas)\n",
    "\n",
    "muda=[]\n",
    "for i in kUsia:\n",
    "    x=i\n",
    "    a=kbawah[0] \n",
    "    b=ktengah[0]\n",
    "    c=katas[0]\n",
    "\n",
    "    if x<a or x>c:\n",
    "        miu=0\n",
    "    elif a<=x and x<=b:\n",
    "        miu=(np.subtract(x,a))/(np.subtract(b,a))\n",
    "    elif b<x and x<=c:\n",
    "        miu=(np.subtract(c,x))/(np.subtract(c,b))\n",
    "    \n",
    "    print(\"Miu Umur Muda = \",miu)\n",
    "    muda.append(miu)\n",
    "\n",
    "print(\"\\n\",muda)\n",
    "\n",
    "#Derajat Keanggotaan Usia (Parobaya)\n",
    "#Bawah\n",
    "mycursor.execute(\"SELECT bawah FROM tb_kriteria WHERE id=2\")\n",
    "kbawah=mycursor.fetchall()\n",
    "#Tengah\n",
    "mycursor.execute(\"SELECT tengah FROM tb_kriteria WHERE id=2\")\n",
    "ktengah=mycursor.fetchall()\n",
    "#Atas\n",
    "mycursor.execute(\"SELECT atas FROM tb_kriteria WHERE id=2\")\n",
    "katas=mycursor.fetchall()\n",
    "\n",
    "print(\"\\n\",kbawah,ktengah,katas)\n",
    "parobaya=[]\n",
    "\n",
    "for i in kUsia:\n",
    "    x=i\n",
    "    a=kbawah[0] \n",
    "    b=ktengah[0]\n",
    "    c=katas[0]\n",
    "\n",
    "    if x<a or x>c:\n",
    "        miu=0\n",
    "    elif a<=x and x<=b:\n",
    "        miu=(np.subtract(x,a))/(np.subtract(b,a))\n",
    "    elif b<x and x<=c:\n",
    "        miu=(np.subtract(c,x))/(np.subtract(c,b))\n",
    "    \n",
    "    print(\"Miu Umur Parobaya = \",miu)\n",
    "    parobaya.append(miu)\n",
    "\n",
    "print(\"\\n\",parobaya)\n",
    "\n",
    "#Derajat Keanggotaan Usia (Tua)\n",
    "#Bawah\n",
    "mycursor.execute(\"SELECT bawah FROM tb_kriteria WHERE id=3\")\n",
    "kbawah=mycursor.fetchall()\n",
    "#Tengah\n",
    "mycursor.execute(\"SELECT tengah FROM tb_kriteria WHERE id=3\")\n",
    "ktengah=mycursor.fetchall()\n",
    "#Atas\n",
    "mycursor.execute(\"SELECT atas FROM tb_kriteria WHERE id=3\")\n",
    "katas=mycursor.fetchall()\n",
    "\n",
    "print(\"\\n\",kbawah,ktengah,katas)\n",
    "tua=[]\n",
    "\n",
    "for i in kUsia:\n",
    "    x=i\n",
    "    a=kbawah[0] \n",
    "    b=ktengah[0]\n",
    "    c=katas[0]\n",
    "\n",
    "    if x<a or x>c:\n",
    "        miu=0\n",
    "    elif a<=x and x<=b:\n",
    "        miu=(np.subtract(x,a))/(np.subtract(b,a))\n",
    "    elif b<x and x<=c:\n",
    "        miu=(np.subtract(c,x))/(np.subtract(c,b))\n",
    "    \n",
    "    print(\"Miu Umur Tua = \",miu)\n",
    "    tua.append(miu)\n",
    "    \n",
    "print(\"\\n\",tua)"
   ]
  },
  {
   "cell_type": "code",
   "execution_count": 636,
   "id": "fd34b525-eedb-47e7-8bd2-d1abc6fe56ac",
   "metadata": {},
   "outputs": [
    {
     "name": "stdout",
     "output_type": "stream",
     "text": [
      "  Nama Karyawan                  Muda Parobaya    Tua\n",
      "0       (Anik,)                 [1.0]        0      0\n",
      "1       (Yudi,)                     0    [0.4]  [0.8]\n",
      "2    (Inawati,)                 [0.4]    [0.1]      0\n",
      "3       (Rudi,)                 [0.3]    [0.2]      0\n",
      "4      (Riska,)                     0    [0.7]  [0.2]\n",
      "5       (Aman,)                 [0.1]    [0.4]      0\n",
      "6       (Dudi,)                 [0.3]    [0.2]      0\n",
      "7       (Rini,)                 [0.8]        0      0\n",
      "8      (Ratih,)                 [0.5]    [0.0]      0\n",
      "9     (Panjul,)  [0.8333333333333334]        0      0\n"
     ]
    }
   ],
   "source": [
    "#Data Derajat Keanggotaan Usia (All)\n",
    "mycursor.execute(\"SELECT nama FROM tb_emp\")\n",
    "data=mycursor.fetchall()\n",
    "fixU=list(zip(data,muda,parobaya,tua))\n",
    "df=pd.DataFrame(fixU,columns=['Nama Karyawan','Muda','Parobaya','Tua'])\n",
    "print(df)"
   ]
  },
  {
   "cell_type": "code",
   "execution_count": 637,
   "id": "6332e016-c5ae-4589-9825-e85ed026c347",
   "metadata": {},
   "outputs": [
    {
     "name": "stdout",
     "output_type": "stream",
     "text": [
      "[(6,), (17,), (14,), (4,), (12,), (13,), (5,), (1,), (3,), (2,)]\n"
     ]
    }
   ],
   "source": [
    "#Derajat Keanggotaan Masa Kerja\n",
    "mycursor.execute(\"SELECT masakerja FROM tb_emp\")\n",
    "kMasa=mycursor.fetchall()\n",
    "print(kMasa)"
   ]
  },
  {
   "cell_type": "code",
   "execution_count": 638,
   "id": "4e5eb983-1d4c-4d35-b919-a554f06340f2",
   "metadata": {},
   "outputs": [
    {
     "name": "stdout",
     "output_type": "stream",
     "text": [
      "[(0.0,)] [(5.0,)] [(15.0,)]\n",
      "Miu Masa Kerja Baru =  [0.9]\n",
      "Miu Masa Kerja Baru =  0\n",
      "Miu Masa Kerja Baru =  [0.1]\n",
      "Miu Masa Kerja Baru =  [0.8]\n",
      "Miu Masa Kerja Baru =  [0.3]\n",
      "Miu Masa Kerja Baru =  [0.2]\n",
      "Miu Masa Kerja Baru =  [1.]\n",
      "Miu Masa Kerja Baru =  [0.2]\n",
      "Miu Masa Kerja Baru =  [0.6]\n",
      "Miu Masa Kerja Baru =  [0.4]\n",
      "\n",
      " [array([0.9]), 0, array([0.1]), array([0.8]), array([0.3]), array([0.2]), array([1.]), array([0.2]), array([0.6]), array([0.4])]\n",
      "\n",
      " [(10.0,)] [(25.0,)] [(99.0,)]\n",
      "Miu Masa Kerja Lama =  0\n",
      "Miu Masa Kerja Lama =  [0.46666667]\n",
      "Miu Masa Kerja Lama =  [0.26666667]\n",
      "Miu Masa Kerja Lama =  0\n",
      "Miu Masa Kerja Lama =  [0.13333333]\n",
      "Miu Masa Kerja Lama =  [0.2]\n",
      "Miu Masa Kerja Lama =  0\n",
      "Miu Masa Kerja Lama =  0\n",
      "Miu Masa Kerja Lama =  0\n",
      "Miu Masa Kerja Lama =  0\n",
      "\n",
      " [0, array([0.46666667]), array([0.26666667]), 0, array([0.13333333]), array([0.2]), 0, 0, 0, 0]\n"
     ]
    }
   ],
   "source": [
    "#Derajat Keanggotaan Masa Kerja (Baru)\n",
    "#Bawah\n",
    "mycursor.execute(\"SELECT bawah FROM tb_kriteria WHERE id=4\")\n",
    "kbawah=mycursor.fetchall()\n",
    "#Tengah\n",
    "mycursor.execute(\"SELECT tengah FROM tb_kriteria WHERE id=4\")\n",
    "ktengah=mycursor.fetchall()\n",
    "#Atas\n",
    "mycursor.execute(\"SELECT atas FROM tb_kriteria WHERE id=4\")\n",
    "katas=mycursor.fetchall()\n",
    "\n",
    "print(kbawah,ktengah,katas)\n",
    "\n",
    "baru=[]\n",
    "for j in kMasa:\n",
    "    x=j\n",
    "    a=kbawah[0] \n",
    "    b=ktengah[0]\n",
    "    c=katas[0]\n",
    "\n",
    "    if x<a or x>c:\n",
    "        miu=0\n",
    "    elif a<=x and x<=b:\n",
    "        miu=(np.subtract(x,a))/(np.subtract(b,a))\n",
    "    elif b<x and x<=c:\n",
    "        miu=(np.subtract(c,x))/(np.subtract(c,b))\n",
    "    \n",
    "    print(\"Miu Masa Kerja Baru = \",miu)\n",
    "    baru.append(miu)\n",
    "\n",
    "print(\"\\n\",baru)\n",
    "\n",
    "#Derajat Keanggotaan Masa Kerja (Lama)\n",
    "#Bawah\n",
    "mycursor.execute(\"SELECT bawah FROM tb_kriteria WHERE id=5\")\n",
    "kbawah=mycursor.fetchall()\n",
    "#Tengah\n",
    "mycursor.execute(\"SELECT tengah FROM tb_kriteria WHERE id=5\")\n",
    "ktengah=mycursor.fetchall()\n",
    "#Atas\n",
    "mycursor.execute(\"SELECT atas FROM tb_kriteria WHERE id=5\")\n",
    "katas=mycursor.fetchall()\n",
    "\n",
    "print(\"\\n\",kbawah,ktengah,katas)\n",
    "lama=[]\n",
    "\n",
    "for j in kMasa:\n",
    "    x=j\n",
    "    a=kbawah[0] \n",
    "    b=ktengah[0]\n",
    "    c=katas[0]\n",
    "\n",
    "    if x<a or x>c:\n",
    "        miu=0\n",
    "    elif a<=x and x<=b:\n",
    "        miu=(np.subtract(x,a))/(np.subtract(b,a))\n",
    "    elif b<x and x<=c:\n",
    "        miu=(np.subtract(c,x))/(np.subtract(c,b))\n",
    "    \n",
    "    print(\"Miu Masa Kerja Lama = \",miu)\n",
    "    lama.append(miu)\n",
    "\n",
    "print(\"\\n\",lama)"
   ]
  },
  {
   "cell_type": "code",
   "execution_count": 639,
   "id": "792cb2cf-bcc5-4b3b-8b27-93e20377077e",
   "metadata": {},
   "outputs": [
    {
     "name": "stdout",
     "output_type": "stream",
     "text": [
      "  Nama Karyawan   Baru                   Lama\n",
      "0       (Anik,)  [0.9]                      0\n",
      "1       (Yudi,)      0   [0.4666666666666667]\n",
      "2    (Inawati,)  [0.1]  [0.26666666666666666]\n",
      "3       (Rudi,)  [0.8]                      0\n",
      "4      (Riska,)  [0.3]  [0.13333333333333333]\n",
      "5       (Aman,)  [0.2]                  [0.2]\n",
      "6       (Dudi,)  [1.0]                      0\n",
      "7       (Rini,)  [0.2]                      0\n",
      "8      (Ratih,)  [0.6]                      0\n",
      "9     (Panjul,)  [0.4]                      0\n"
     ]
    }
   ],
   "source": [
    "#Data Derajat Keanggotaan Masa Kerja (All)\n",
    "mycursor.execute(\"SELECT nama FROM tb_emp\")\n",
    "data=mycursor.fetchall()\n",
    "fixU=list(zip(data,baru,lama))\n",
    "df=pd.DataFrame(fixU,columns=['Nama Karyawan','Baru','Lama'])\n",
    "print(df)"
   ]
  },
  {
   "cell_type": "code",
   "execution_count": 640,
   "id": "5e6a5b70-ff49-4c6b-94e8-ba2b3661a780",
   "metadata": {},
   "outputs": [
    {
     "name": "stdout",
     "output_type": "stream",
     "text": [
      "[(750000,), (1255000,), (1500000,), (1040000,), (950000,), (1600000,), (1250000,), (550000,), (735000,), (860000,)]\n"
     ]
    }
   ],
   "source": [
    "#Derajat Keanggotaan Gaji\n",
    "mycursor.execute(\"SELECT gaji FROM tb_emp\")\n",
    "kGaji=mycursor.fetchall()\n",
    "print(kGaji)"
   ]
  },
  {
   "cell_type": "code",
   "execution_count": 641,
   "id": "b5b87dbf-0463-47d4-9212-391a463f1752",
   "metadata": {},
   "outputs": [
    {
     "name": "stdout",
     "output_type": "stream",
     "text": [
      "[(0.0,)] [(300000.0,)] [(800000.0,)]\n",
      "Miu Gaji Rendah =  [0.1]\n",
      "Miu Gaji Rendah =  0\n",
      "Miu Gaji Rendah =  0\n",
      "Miu Gaji Rendah =  0\n",
      "Miu Gaji Rendah =  0\n",
      "Miu Gaji Rendah =  0\n",
      "Miu Gaji Rendah =  0\n",
      "Miu Gaji Rendah =  [0.5]\n",
      "Miu Gaji Rendah =  [0.13]\n",
      "Miu Gaji Rendah =  0\n",
      "\n",
      " [array([0.1]), 0, 0, 0, 0, 0, 0, array([0.5]), array([0.13]), 0]\n",
      "\n",
      " [(500000.0,)] [(1000000.0,)] [(1500000.0,)]\n",
      "Miu Gaji Sedang =  [0.5]\n",
      "Miu Gaji Sedang =  [0.49]\n",
      "Miu Gaji Sedang =  [0.]\n",
      "Miu Gaji Sedang =  [0.92]\n",
      "Miu Gaji Sedang =  [0.9]\n",
      "Miu Gaji Sedang =  0\n",
      "Miu Gaji Sedang =  [0.5]\n",
      "Miu Gaji Sedang =  [0.1]\n",
      "Miu Gaji Sedang =  [0.47]\n",
      "Miu Gaji Sedang =  [0.72]\n",
      "\n",
      " [array([0.5]), array([0.49]), array([0.]), array([0.92]), array([0.9]), 0, array([0.5]), array([0.1]), array([0.47]), array([0.72])]\n",
      "\n",
      " [(1000000.0,)] [(2000000.0,)] [(100000000.0,)]\n",
      "Miu Gaji Tinggi =  0\n",
      "Miu Gaji Tinggi =  [0.255]\n",
      "Miu Gaji Tinggi =  [0.5]\n",
      "Miu Gaji Tinggi =  [0.04]\n",
      "Miu Gaji Tinggi =  0\n",
      "Miu Gaji Tinggi =  [0.6]\n",
      "Miu Gaji Tinggi =  [0.25]\n",
      "Miu Gaji Tinggi =  0\n",
      "Miu Gaji Tinggi =  0\n",
      "Miu Gaji Tinggi =  0\n",
      "\n",
      " [0, array([0.255]), array([0.5]), array([0.04]), 0, array([0.6]), array([0.25]), 0, 0, 0]\n"
     ]
    }
   ],
   "source": [
    "#Derajat Keanggotaan Gaji (Rendah)\n",
    "#Bawah\n",
    "mycursor.execute(\"SELECT bawah FROM tb_kriteria WHERE id=6\")\n",
    "kbawah=mycursor.fetchall()\n",
    "#Tengah\n",
    "mycursor.execute(\"SELECT tengah FROM tb_kriteria WHERE id=6\")\n",
    "ktengah=mycursor.fetchall()\n",
    "#Atas\n",
    "mycursor.execute(\"SELECT atas FROM tb_kriteria WHERE id=6\")\n",
    "katas=mycursor.fetchall()\n",
    "\n",
    "print(kbawah,ktengah,katas)\n",
    "\n",
    "rendah=[]\n",
    "for k in kGaji:\n",
    "    x=k\n",
    "    a=kbawah[0] \n",
    "    b=ktengah[0]\n",
    "    c=katas[0]\n",
    "\n",
    "    if x<a or x>c:\n",
    "        miu=0\n",
    "    elif a<=x and x<=b:\n",
    "        miu=(np.subtract(x,a))/(np.subtract(b,a))\n",
    "    elif b<x and x<=c:\n",
    "        miu=(np.subtract(c,x))/(np.subtract(c,b))\n",
    "    \n",
    "    print(\"Miu Gaji Rendah = \",miu)\n",
    "    rendah.append(miu)\n",
    "\n",
    "print(\"\\n\",rendah)\n",
    "\n",
    "#Derajat Keanggotaan Gaji (Sedang)\n",
    "#Bawah\n",
    "mycursor.execute(\"SELECT bawah FROM tb_kriteria WHERE id=7\")\n",
    "kbawah=mycursor.fetchall()\n",
    "#Tengah\n",
    "mycursor.execute(\"SELECT tengah FROM tb_kriteria WHERE id=7\")\n",
    "ktengah=mycursor.fetchall()\n",
    "#Atas\n",
    "mycursor.execute(\"SELECT atas FROM tb_kriteria WHERE id=7\")\n",
    "katas=mycursor.fetchall()\n",
    "\n",
    "print(\"\\n\",kbawah,ktengah,katas)\n",
    "sedang=[]\n",
    "\n",
    "for k in kGaji:\n",
    "    x=k\n",
    "    a=kbawah[0] \n",
    "    b=ktengah[0]\n",
    "    c=katas[0]\n",
    "\n",
    "    if x<a or x>c:\n",
    "        miu=0\n",
    "    elif a<=x and x<=b:\n",
    "        miu=(np.subtract(x,a))/(np.subtract(b,a))\n",
    "    elif b<x and x<=c:\n",
    "        miu=(np.subtract(c,x))/(np.subtract(c,b))\n",
    "    \n",
    "    print(\"Miu Gaji Sedang = \",miu)\n",
    "    sedang.append(miu)\n",
    "\n",
    "print(\"\\n\",sedang)\n",
    "\n",
    "#Derajat Keanggotaan Gaji (Tinggi)\n",
    "#Bawah\n",
    "mycursor.execute(\"SELECT bawah FROM tb_kriteria WHERE id=8\")\n",
    "kbawah=mycursor.fetchall()\n",
    "#Tengah\n",
    "mycursor.execute(\"SELECT tengah FROM tb_kriteria WHERE id=8\")\n",
    "ktengah=mycursor.fetchall()\n",
    "#Atas\n",
    "mycursor.execute(\"SELECT atas FROM tb_kriteria WHERE id=8\")\n",
    "katas=mycursor.fetchall()\n",
    "\n",
    "print(\"\\n\",kbawah,ktengah,katas)\n",
    "tinggi=[]\n",
    "\n",
    "for k in kGaji:\n",
    "    x=k\n",
    "    a=kbawah[0] \n",
    "    b=ktengah[0]\n",
    "    c=katas[0]\n",
    "\n",
    "    if x<a or x>c:\n",
    "        miu=0\n",
    "    elif a<=x and x<=b:\n",
    "        miu=(np.subtract(x,a))/(np.subtract(b,a))\n",
    "    elif b<x and x<=c:\n",
    "        miu=(np.subtract(c,x))/(np.subtract(c,b))\n",
    "    \n",
    "    print(\"Miu Gaji Tinggi = \",miu)\n",
    "    tinggi.append(miu)\n",
    "    \n",
    "print(\"\\n\",tinggi)"
   ]
  },
  {
   "cell_type": "code",
   "execution_count": 642,
   "id": "fed919c2-a448-4409-a5de-d243dd6b22f8",
   "metadata": {},
   "outputs": [
    {
     "name": "stdout",
     "output_type": "stream",
     "text": [
      "  Nama Karyawan  Rendah  Sedang   Tinggi\n",
      "0       (Anik,)   [0.1]   [0.5]        0\n",
      "1       (Yudi,)       0  [0.49]  [0.255]\n",
      "2    (Inawati,)       0   [0.0]    [0.5]\n",
      "3       (Rudi,)       0  [0.92]   [0.04]\n",
      "4      (Riska,)       0   [0.9]        0\n",
      "5       (Aman,)       0       0    [0.6]\n",
      "6       (Dudi,)       0   [0.5]   [0.25]\n",
      "7       (Rini,)   [0.5]   [0.1]        0\n",
      "8      (Ratih,)  [0.13]  [0.47]        0\n",
      "9     (Panjul,)       0  [0.72]        0\n"
     ]
    }
   ],
   "source": [
    "#Data Derajat Keanggotaan Gaji (All)\n",
    "mycursor.execute(\"SELECT nama FROM tb_emp\")\n",
    "data=mycursor.fetchall()\n",
    "fixU=list(zip(data,rendah,sedang,tinggi))\n",
    "df=pd.DataFrame(fixU,columns=['Nama Karyawan','Rendah','Sedang','Tinggi'])\n",
    "print(df)"
   ]
  },
  {
   "cell_type": "code",
   "execution_count": 644,
   "id": "74f6aa75-0fc4-49d6-8af0-414a6ebe47bb",
   "metadata": {},
   "outputs": [
    {
     "name": "stdout",
     "output_type": "stream",
     "text": [
      "      Id Nama Karyawan   Usia Masa Kerja        Gaji                  Muda  \\\n",
      "0   (1,)       (Anik,)  (30,)       (6,)   (750000,)                 [1.0]   \n",
      "1   (2,)       (Yudi,)  (48,)      (17,)  (1255000,)                     0   \n",
      "2   (3,)    (Inawati,)  (36,)      (14,)  (1500000,)                 [0.4]   \n",
      "3   (4,)       (Rudi,)  (37,)       (4,)  (1040000,)                 [0.3]   \n",
      "4   (5,)      (Riska,)  (42,)      (12,)   (950000,)                     0   \n",
      "5   (6,)       (Aman,)  (39,)      (13,)  (1600000,)                 [0.1]   \n",
      "6   (7,)       (Dudi,)  (37,)       (5,)  (1250000,)                 [0.3]   \n",
      "7   (8,)       (Rini,)  (32,)       (1,)   (550000,)                 [0.8]   \n",
      "8   (9,)      (Ratih,)  (35,)       (3,)   (735000,)                 [0.5]   \n",
      "9  (10,)     (Panjul,)  (25,)       (2,)   (860000,)  [0.8333333333333334]   \n",
      "\n",
      "  Parobaya    Tua   Baru                   Lama  Rendah  Sedang   Tinggi  \n",
      "0        0      0  [0.9]                      0   [0.1]   [0.5]        0  \n",
      "1    [0.4]  [0.8]      0   [0.4666666666666667]       0  [0.49]  [0.255]  \n",
      "2    [0.1]      0  [0.1]  [0.26666666666666666]       0   [0.0]    [0.5]  \n",
      "3    [0.2]      0  [0.8]                      0       0  [0.92]   [0.04]  \n",
      "4    [0.7]  [0.2]  [0.3]  [0.13333333333333333]       0   [0.9]        0  \n",
      "5    [0.4]      0  [0.2]                  [0.2]       0       0    [0.6]  \n",
      "6    [0.2]      0  [1.0]                      0       0   [0.5]   [0.25]  \n",
      "7        0      0  [0.2]                      0   [0.5]   [0.1]        0  \n",
      "8    [0.0]      0  [0.6]                      0  [0.13]  [0.47]        0  \n",
      "9        0      0  [0.4]                      0       0  [0.72]        0  \n"
     ]
    }
   ],
   "source": [
    "#Data Karyawan Dan Derajat Keanggotaan (All)\n",
    "#Id\n",
    "mycursor.execute(\"SELECT id FROM tb_emp\")\n",
    "idK=mycursor.fetchall()\n",
    "#Nama Karyawan\n",
    "mycursor.execute(\"SELECT nama FROM tb_emp\")\n",
    "nama=mycursor.fetchall()\n",
    "#Usia\n",
    "mycursor.execute(\"SELECT usia FROM tb_emp\")\n",
    "usia=mycursor.fetchall()\n",
    "#Masa Kerja\n",
    "mycursor.execute(\"SELECT masakerja FROM tb_emp\")\n",
    "masa=mycursor.fetchall()\n",
    "#Gaji\n",
    "mycursor.execute(\"SELECT gaji FROM tb_emp\")\n",
    "gaji=mycursor.fetchall()\n",
    "\n",
    "fixU=list(zip(idK,nama,usia,masa,gaji,muda,parobaya,tua,baru,lama,rendah,\n",
    "              sedang,tinggi))\n",
    "df=pd.DataFrame(fixU,columns=['Id','Nama Karyawan','Usia','Masa Kerja','Gaji',\n",
    "                              'Muda','Parobaya','Tua','Baru','Lama',\n",
    "                              'Rendah','Sedang','Tinggi'])\n",
    "print(df)"
   ]
  },
  {
   "cell_type": "code",
   "execution_count": 651,
   "id": "dbdd388e-a685-4e16-9914-a7443e1ba555",
   "metadata": {},
   "outputs": [
    {
     "name": "stdout",
     "output_type": "stream",
     "text": [
      "\n",
      "************* Operasi Logika Fuzzy || Yunda Puji Lestari_20053 ************\n",
      "\n",
      "\n",
      "====================== Usia ======================\n",
      "    1. Muda\n",
      "    2. Parobaya\n",
      "    3. Tua\n",
      "    \n"
     ]
    },
    {
     "name": "stdin",
     "output_type": "stream",
     "text": [
      "Masukkan Pilihan Anda :  3\n"
     ]
    },
    {
     "name": "stdout",
     "output_type": "stream",
     "text": [
      "\n",
      "=================== Masa Kerja ===================\n",
      "    1. Baru\n",
      "    2. Lama\n",
      "    \n"
     ]
    },
    {
     "name": "stdin",
     "output_type": "stream",
     "text": [
      "Masukkan Pilihan Anda :  2\n"
     ]
    },
    {
     "name": "stdout",
     "output_type": "stream",
     "text": [
      "\n",
      "====================== Gaji ======================\n",
      "    1. Rendah\n",
      "    2. Sedang\n",
      "    3. Tinggi\n",
      "    \n"
     ]
    },
    {
     "name": "stdin",
     "output_type": "stream",
     "text": [
      "Masukkan Pilihan Anda :  1\n"
     ]
    },
    {
     "name": "stdout",
     "output_type": "stream",
     "text": [
      "\n",
      "==================== Operasi =====================\n",
      "    1. OR - OR\n",
      "    2. AND - AND\n",
      "    3. OR - AND\n",
      "    4. AND - OR\n",
      "    \n"
     ]
    },
    {
     "name": "stdin",
     "output_type": "stream",
     "text": [
      "Masukkan Pilihan Anda :  1\n"
     ]
    },
    {
     "name": "stdout",
     "output_type": "stream",
     "text": [
      "[3, 2, 1, 1]\n"
     ]
    }
   ],
   "source": [
    "#Operasi\n",
    "judul=\" Operasi Logika Fuzzy || Yunda Puji Lestari_20053 \".center(75,\"*\")\n",
    "print(f\"\"\"\\r\\n{judul}\\r\\n\"\"\")\n",
    "i=1\n",
    "pilih=[]\n",
    "while i==True:\n",
    "    judul=\" Usia \".center(50,\"=\")\n",
    "    print(f\"\"\"\\r\\n{judul}\n",
    "    1. Muda\n",
    "    2. Parobaya\n",
    "    3. Tua\n",
    "    \"\"\")\n",
    "    mUsia=int(input(\"Masukkan Pilihan Anda : \"))\n",
    "    \n",
    "    judul=\" Masa Kerja \".center(50,\"=\")\n",
    "    print(f\"\"\"\\r\\n{judul}\n",
    "    1. Baru\n",
    "    2. Lama\n",
    "    \"\"\")\n",
    "    mMasa=int(input(\"Masukkan Pilihan Anda : \"))\n",
    "    \n",
    "    judul=\" Gaji \".center(50,\"=\")\n",
    "    print(f\"\"\"\\r\\n{judul}\n",
    "    1. Rendah\n",
    "    2. Sedang\n",
    "    3. Tinggi\n",
    "    \"\"\")\n",
    "    mGaji=int(input(\"Masukkan Pilihan Anda : \"))\n",
    "    \n",
    "    judul=\" Operasi \".center(50,\"=\")\n",
    "    print(f\"\"\"\\r\\n{judul}\n",
    "    1. OR - OR\n",
    "    2. AND - AND\n",
    "    3. OR - AND\n",
    "    4. AND - OR\n",
    "    \"\"\")\n",
    "    mOp=int(input(\"Masukkan Pilihan Anda : \"))\n",
    "    \n",
    "    pilih.append(mUsia)\n",
    "    #pilih.append(mMasa)\n",
    "    pilih.append(mGaji)\n",
    "    pilih.append(mOp)\n",
    "    i+=1\n",
    "    \n",
    "    \n",
    "    "
   ]
  },
  {
   "cell_type": "code",
   "execution_count": null,
   "id": "98e631ba-9064-43e2-94ed-f3fe1fb395aa",
   "metadata": {},
   "outputs": [],
   "source": []
  }
 ],
 "metadata": {
  "kernelspec": {
   "display_name": "Python 3 (ipykernel)",
   "language": "python",
   "name": "python3"
  },
  "language_info": {
   "codemirror_mode": {
    "name": "ipython",
    "version": 3
   },
   "file_extension": ".py",
   "mimetype": "text/x-python",
   "name": "python",
   "nbconvert_exporter": "python",
   "pygments_lexer": "ipython3",
   "version": "3.9.13"
  }
 },
 "nbformat": 4,
 "nbformat_minor": 5
}
